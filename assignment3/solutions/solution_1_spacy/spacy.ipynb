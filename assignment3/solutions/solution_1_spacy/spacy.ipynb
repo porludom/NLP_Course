{
  "cells": [
    {
      "cell_type": "markdown",
      "metadata": {},
      "source": [
        "## The first solution to assignment 3 using spacy"
      ]
    },
    {
      "cell_type": "code",
      "execution_count": 19,
      "metadata": {},
      "outputs": [],
      "source": [
        "import os\n",
        "import re\n",
        "import random\n",
        "import string\n",
        "from typing import List\n",
        "import spacy\n",
        "from spacy import displacy\n",
        "from spacy.util import minibatch, compounding\n",
        "from spacy.training import Example\n",
        "import json\n",
        "from spacy.pipeline.spancat import DEFAULT_SPANCAT_MODEL\n",
        "import pandas as pd\n",
        "from tqdm import tqdm\n",
        "\n",
        "nlp = spacy.blank('ru')\n",
        "span_key = \"sc\""
      ]
    },
    {
      "cell_type": "code",
      "execution_count": 20,
      "metadata": {
        "id": "S7ONm-IqcFtu"
      },
      "outputs": [],
      "source": [
        "%%capture\n",
        "from datasets import load_dataset"
      ]
    },
    {
      "cell_type": "code",
      "execution_count": 21,
      "metadata": {
        "id": "L5LZHtPVbsBH"
      },
      "outputs": [],
      "source": [
        "# loading data\n",
        "with open(\"../../data/train.jsonl\", \"r\") as f:\n",
        "    train_data = [json.loads(line) for line in f.readlines()]\n",
        "\n",
        "with open(\"../../data/dev.jsonl\", \"r\") as f:\n",
        "    dev_data = [json.loads(line) for line in f.readlines()]"
      ]
    },
    {
      "cell_type": "markdown",
      "metadata": {},
      "source": [
        "Here we will prepare data for training. During training, spacy requires Example objects with the full text and annotations of spans and labels. Lets create them"
      ]
    },
    {
      "cell_type": "code",
      "execution_count": 24,
      "metadata": {
        "colab": {
          "base_uri": "https://localhost:8080/"
        },
        "id": "hOFPcnKLcqXQ",
        "outputId": "95de1211-185a-4ead-e12f-51f0b395aef9"
      },
      "outputs": [
        {
          "data": {
            "text/plain": [
              "2"
            ]
          },
          "execution_count": 24,
          "metadata": {},
          "output_type": "execute_result"
        }
      ],
      "source": [
        "train_data_examples = []\n",
        "counter = 0 # counter of skipped samples for some reasons\n",
        "\n",
        "for sample in train_data:\n",
        "  id = sample[\"id\"]\n",
        "  text = sample[\"sentences\"]\n",
        "  entities = sample[\"ners\"][:2]\n",
        "\n",
        "  # add 1 to every second value in every tuple to make second value exclusive\n",
        "  entities = [[tup[0], tup[1]+1, tup[2]] for tup in entities]\n",
        "\n",
        "  # This is the argument Example object needs when creating\n",
        "  annotation = {'spans' : {span_key : entities}}\n",
        "  try:\n",
        "\n",
        "    # create Example from text and annotations (with spans and labels)\n",
        "    train_data_examples.append(Example.from_dict(nlp.make_doc(text), annotation))\n",
        "  except:\n",
        "    # If we could not create Example for this text, then skip. This happens if boundaries of words are not spaces or punctuation\n",
        "    counter +=1\n",
        "    continue\n",
        "counter"
      ]
    },
    {
      "cell_type": "code",
      "execution_count": 26,
      "metadata": {
        "id": "MK_HNN-6fz36"
      },
      "outputs": [],
      "source": [
        "%%capture\n",
        "entities = load_dataset('MalakhovIlya/RuNNE', 'ent_types')['ent_types']"
      ]
    },
    {
      "cell_type": "code",
      "execution_count": 27,
      "metadata": {
        "id": "cp82T0rbe9hX"
      },
      "outputs": [],
      "source": [
        "config = {\n",
        "    # this refers to the minimum probability to consider a prediction positive\n",
        "    \"threshold\": 0.85,\n",
        "    # the span key refers to the key in doc.spans\n",
        "    \"spans_key\": span_key,\n",
        "    # this refers to the maximum number of labels to consider positive per span\n",
        "    \"max_positive\": None,\n",
        "    # a model instance that is given a list of documents with start end indices representing the labelled spans\n",
        "    \"model\": DEFAULT_SPANCAT_MODEL,\n",
        "    # A function that suggests spans. This suggester is fixed n-gram length of up to 5 tokens\n",
        "    \"suggester\": {\"@misc\": \"spacy.ngram_suggester.v1\", \"sizes\": [1, 2, 3, 4, 5]},\n",
        "}\n",
        "\n",
        "#add spancat component to nlp object\n",
        "nlp.add_pipe(\"spancat\", config=config)\n",
        "\n",
        "#get spancat component\n",
        "span=nlp.get_pipe('spancat')\n",
        "\n",
        "#Add labels to spancat component\n",
        "for label in entities[\"type\"]:\n",
        "    span.add_label(label)"
      ]
    },
    {
      "cell_type": "code",
      "execution_count": 28,
      "metadata": {
        "id": "XzF5aLBPgHWX"
      },
      "outputs": [],
      "source": [
        "pipe_exceptions = [\"spancat\"]\n",
        "\n",
        "# disable redundant pipelines\n",
        "unaffected_pipes = [pipe for pipe in nlp.pipe_names if pipe not in pipe_exceptions]\n",
        "\n",
        "# initialise spacy object\n",
        "nlp.initialize()\n",
        "sgd = nlp.create_optimizer()"
      ]
    },
    {
      "cell_type": "markdown",
      "metadata": {},
      "source": [
        "Next is training process"
      ]
    },
    {
      "cell_type": "code",
      "execution_count": 34,
      "metadata": {
        "colab": {
          "base_uri": "https://localhost:8080/"
        },
        "id": "sb91PLgIgI_J",
        "outputId": "49023def-fca8-4046-975a-7aea1c9e1171"
      },
      "outputs": [
        {
          "name": "stderr",
          "output_type": "stream",
          "text": [
            "  2%|▏         | 1/50 [00:32<26:30, 32.47s/it]"
          ]
        },
        {
          "name": "stdout",
          "output_type": "stream",
          "text": [
            "iteration 0 train loss: 1018.34\n"
          ]
        },
        {
          "name": "stderr",
          "output_type": "stream",
          "text": [
            "  4%|▍         | 2/50 [01:04<25:32, 31.93s/it]"
          ]
        },
        {
          "name": "stdout",
          "output_type": "stream",
          "text": [
            "iteration 1 train loss: 1018.05\n"
          ]
        },
        {
          "name": "stderr",
          "output_type": "stream",
          "text": [
            "  6%|▌         | 3/50 [01:35<24:49, 31.70s/it]"
          ]
        },
        {
          "name": "stdout",
          "output_type": "stream",
          "text": [
            "iteration 2 train loss: 1017.93\n"
          ]
        },
        {
          "name": "stderr",
          "output_type": "stream",
          "text": [
            "  8%|▊         | 4/50 [02:06<24:07, 31.46s/it]"
          ]
        },
        {
          "name": "stdout",
          "output_type": "stream",
          "text": [
            "iteration 3 train loss: 1017.87\n"
          ]
        },
        {
          "name": "stderr",
          "output_type": "stream",
          "text": [
            " 10%|█         | 5/50 [02:39<23:57, 31.95s/it]"
          ]
        },
        {
          "name": "stdout",
          "output_type": "stream",
          "text": [
            "iteration 4 train loss: 1017.79\n"
          ]
        },
        {
          "name": "stderr",
          "output_type": "stream",
          "text": [
            " 12%|█▏        | 6/50 [03:12<23:46, 32.42s/it]"
          ]
        },
        {
          "name": "stdout",
          "output_type": "stream",
          "text": [
            "iteration 5 train loss: 1016.30\n"
          ]
        },
        {
          "name": "stderr",
          "output_type": "stream",
          "text": [
            " 14%|█▍        | 7/50 [03:45<23:26, 32.71s/it]"
          ]
        },
        {
          "name": "stdout",
          "output_type": "stream",
          "text": [
            "iteration 6 train loss: 1036.72\n"
          ]
        },
        {
          "name": "stderr",
          "output_type": "stream",
          "text": [
            " 16%|█▌        | 8/50 [04:17<22:38, 32.35s/it]"
          ]
        },
        {
          "name": "stdout",
          "output_type": "stream",
          "text": [
            "iteration 7 train loss: 999.38\n"
          ]
        },
        {
          "name": "stderr",
          "output_type": "stream",
          "text": [
            " 18%|█▊        | 9/50 [04:52<22:39, 33.17s/it]"
          ]
        },
        {
          "name": "stdout",
          "output_type": "stream",
          "text": [
            "iteration 8 train loss: 994.12\n"
          ]
        },
        {
          "name": "stderr",
          "output_type": "stream",
          "text": [
            " 20%|██        | 10/50 [05:23<21:35, 32.38s/it]"
          ]
        },
        {
          "name": "stdout",
          "output_type": "stream",
          "text": [
            "iteration 9 train loss: 985.98\n"
          ]
        },
        {
          "name": "stderr",
          "output_type": "stream",
          "text": [
            " 22%|██▏       | 11/50 [05:54<20:53, 32.13s/it]"
          ]
        },
        {
          "name": "stdout",
          "output_type": "stream",
          "text": [
            "iteration 10 train loss: 983.48\n"
          ]
        },
        {
          "name": "stderr",
          "output_type": "stream",
          "text": [
            " 24%|██▍       | 12/50 [06:25<20:06, 31.75s/it]"
          ]
        },
        {
          "name": "stdout",
          "output_type": "stream",
          "text": [
            "iteration 11 train loss: 966.39\n"
          ]
        },
        {
          "name": "stderr",
          "output_type": "stream",
          "text": [
            " 26%|██▌       | 13/50 [06:57<19:34, 31.74s/it]"
          ]
        },
        {
          "name": "stdout",
          "output_type": "stream",
          "text": [
            "iteration 12 train loss: 942.70\n"
          ]
        },
        {
          "name": "stderr",
          "output_type": "stream",
          "text": [
            " 28%|██▊       | 14/50 [07:28<19:00, 31.68s/it]"
          ]
        },
        {
          "name": "stdout",
          "output_type": "stream",
          "text": [
            "iteration 13 train loss: 865.10\n"
          ]
        },
        {
          "name": "stderr",
          "output_type": "stream",
          "text": [
            " 30%|███       | 15/50 [08:06<19:30, 33.44s/it]"
          ]
        },
        {
          "name": "stdout",
          "output_type": "stream",
          "text": [
            "iteration 14 train loss: 834.97\n"
          ]
        },
        {
          "name": "stderr",
          "output_type": "stream",
          "text": [
            " 32%|███▏      | 16/50 [08:38<18:38, 32.90s/it]"
          ]
        },
        {
          "name": "stdout",
          "output_type": "stream",
          "text": [
            "iteration 15 train loss: 829.74\n"
          ]
        },
        {
          "name": "stderr",
          "output_type": "stream",
          "text": [
            " 34%|███▍      | 17/50 [09:07<17:35, 31.99s/it]"
          ]
        },
        {
          "name": "stdout",
          "output_type": "stream",
          "text": [
            "iteration 16 train loss: 799.82\n"
          ]
        },
        {
          "name": "stderr",
          "output_type": "stream",
          "text": [
            " 36%|███▌      | 18/50 [09:37<16:40, 31.26s/it]"
          ]
        },
        {
          "name": "stdout",
          "output_type": "stream",
          "text": [
            "iteration 17 train loss: 778.50\n"
          ]
        },
        {
          "name": "stderr",
          "output_type": "stream",
          "text": [
            " 38%|███▊      | 19/50 [10:06<15:50, 30.65s/it]"
          ]
        },
        {
          "name": "stdout",
          "output_type": "stream",
          "text": [
            "iteration 18 train loss: 771.64\n"
          ]
        },
        {
          "name": "stderr",
          "output_type": "stream",
          "text": [
            " 40%|████      | 20/50 [10:35<15:05, 30.19s/it]"
          ]
        },
        {
          "name": "stdout",
          "output_type": "stream",
          "text": [
            "iteration 19 train loss: 765.75\n"
          ]
        },
        {
          "name": "stderr",
          "output_type": "stream",
          "text": [
            " 42%|████▏     | 21/50 [11:04<14:23, 29.77s/it]"
          ]
        },
        {
          "name": "stdout",
          "output_type": "stream",
          "text": [
            "iteration 20 train loss: 761.32\n"
          ]
        },
        {
          "name": "stderr",
          "output_type": "stream",
          "text": [
            " 44%|████▍     | 22/50 [11:38<14:26, 30.93s/it]"
          ]
        },
        {
          "name": "stdout",
          "output_type": "stream",
          "text": [
            "iteration 21 train loss: 760.88\n"
          ]
        },
        {
          "name": "stderr",
          "output_type": "stream",
          "text": [
            " 46%|████▌     | 23/50 [12:17<15:04, 33.51s/it]"
          ]
        },
        {
          "name": "stdout",
          "output_type": "stream",
          "text": [
            "iteration 22 train loss: 750.54\n"
          ]
        },
        {
          "name": "stderr",
          "output_type": "stream",
          "text": [
            " 48%|████▊     | 24/50 [12:47<14:05, 32.51s/it]"
          ]
        },
        {
          "name": "stdout",
          "output_type": "stream",
          "text": [
            "iteration 23 train loss: 737.51\n"
          ]
        },
        {
          "name": "stderr",
          "output_type": "stream",
          "text": [
            " 50%|█████     | 25/50 [13:18<13:20, 32.01s/it]"
          ]
        },
        {
          "name": "stdout",
          "output_type": "stream",
          "text": [
            "iteration 24 train loss: 731.08\n"
          ]
        },
        {
          "name": "stderr",
          "output_type": "stream",
          "text": [
            " 52%|█████▏    | 26/50 [13:55<13:22, 33.42s/it]"
          ]
        },
        {
          "name": "stdout",
          "output_type": "stream",
          "text": [
            "iteration 25 train loss: 729.73\n"
          ]
        },
        {
          "name": "stderr",
          "output_type": "stream",
          "text": [
            " 54%|█████▍    | 27/50 [14:31<13:05, 34.14s/it]"
          ]
        },
        {
          "name": "stdout",
          "output_type": "stream",
          "text": [
            "iteration 26 train loss: 728.37\n"
          ]
        },
        {
          "name": "stderr",
          "output_type": "stream",
          "text": [
            " 56%|█████▌    | 28/50 [15:02<12:11, 33.23s/it]"
          ]
        },
        {
          "name": "stdout",
          "output_type": "stream",
          "text": [
            "iteration 27 train loss: 720.37\n"
          ]
        },
        {
          "name": "stderr",
          "output_type": "stream",
          "text": [
            " 58%|█████▊    | 29/50 [15:33<11:23, 32.53s/it]"
          ]
        },
        {
          "name": "stdout",
          "output_type": "stream",
          "text": [
            "iteration 28 train loss: 719.21\n"
          ]
        },
        {
          "name": "stderr",
          "output_type": "stream",
          "text": [
            " 60%|██████    | 30/50 [16:02<10:29, 31.49s/it]"
          ]
        },
        {
          "name": "stdout",
          "output_type": "stream",
          "text": [
            "iteration 29 train loss: 715.58\n"
          ]
        },
        {
          "name": "stderr",
          "output_type": "stream",
          "text": [
            " 62%|██████▏   | 31/50 [16:32<09:48, 30.99s/it]"
          ]
        },
        {
          "name": "stdout",
          "output_type": "stream",
          "text": [
            "iteration 30 train loss: 711.86\n"
          ]
        },
        {
          "name": "stderr",
          "output_type": "stream",
          "text": [
            " 64%|██████▍   | 32/50 [17:04<09:25, 31.39s/it]"
          ]
        },
        {
          "name": "stdout",
          "output_type": "stream",
          "text": [
            "iteration 31 train loss: 703.22\n"
          ]
        },
        {
          "name": "stderr",
          "output_type": "stream",
          "text": [
            " 66%|██████▌   | 33/50 [17:40<09:17, 32.76s/it]"
          ]
        },
        {
          "name": "stdout",
          "output_type": "stream",
          "text": [
            "iteration 32 train loss: 688.80\n"
          ]
        },
        {
          "name": "stderr",
          "output_type": "stream",
          "text": [
            " 68%|██████▊   | 34/50 [18:17<09:05, 34.11s/it]"
          ]
        },
        {
          "name": "stdout",
          "output_type": "stream",
          "text": [
            "iteration 33 train loss: 669.39\n"
          ]
        },
        {
          "name": "stderr",
          "output_type": "stream",
          "text": [
            " 70%|███████   | 35/50 [18:50<08:23, 33.59s/it]"
          ]
        },
        {
          "name": "stdout",
          "output_type": "stream",
          "text": [
            "iteration 34 train loss: 662.49\n"
          ]
        },
        {
          "name": "stderr",
          "output_type": "stream",
          "text": [
            " 72%|███████▏  | 36/50 [19:20<07:35, 32.56s/it]"
          ]
        },
        {
          "name": "stdout",
          "output_type": "stream",
          "text": [
            "iteration 35 train loss: 655.98\n"
          ]
        },
        {
          "name": "stderr",
          "output_type": "stream",
          "text": [
            " 74%|███████▍  | 37/50 [19:51<06:59, 32.31s/it]"
          ]
        },
        {
          "name": "stdout",
          "output_type": "stream",
          "text": [
            "iteration 36 train loss: 650.81\n"
          ]
        },
        {
          "name": "stderr",
          "output_type": "stream",
          "text": [
            " 76%|███████▌  | 38/50 [20:24<06:29, 32.49s/it]"
          ]
        },
        {
          "name": "stdout",
          "output_type": "stream",
          "text": [
            "iteration 37 train loss: 649.98\n"
          ]
        },
        {
          "name": "stderr",
          "output_type": "stream",
          "text": [
            " 78%|███████▊  | 39/50 [20:57<05:56, 32.37s/it]"
          ]
        },
        {
          "name": "stdout",
          "output_type": "stream",
          "text": [
            "iteration 38 train loss: 644.73\n"
          ]
        },
        {
          "name": "stderr",
          "output_type": "stream",
          "text": [
            " 80%|████████  | 40/50 [21:32<05:32, 33.22s/it]"
          ]
        },
        {
          "name": "stdout",
          "output_type": "stream",
          "text": [
            "iteration 39 train loss: 637.02\n"
          ]
        },
        {
          "name": "stderr",
          "output_type": "stream",
          "text": [
            " 82%|████████▏ | 41/50 [22:04<04:56, 32.98s/it]"
          ]
        },
        {
          "name": "stdout",
          "output_type": "stream",
          "text": [
            "iteration 40 train loss: 636.34\n"
          ]
        },
        {
          "name": "stderr",
          "output_type": "stream",
          "text": [
            " 84%|████████▍ | 42/50 [22:35<04:17, 32.20s/it]"
          ]
        },
        {
          "name": "stdout",
          "output_type": "stream",
          "text": [
            "iteration 41 train loss: 630.62\n"
          ]
        },
        {
          "name": "stderr",
          "output_type": "stream",
          "text": [
            " 86%|████████▌ | 43/50 [23:04<03:39, 31.35s/it]"
          ]
        },
        {
          "name": "stdout",
          "output_type": "stream",
          "text": [
            "iteration 42 train loss: 627.27\n"
          ]
        },
        {
          "name": "stderr",
          "output_type": "stream",
          "text": [
            " 88%|████████▊ | 44/50 [23:33<03:04, 30.83s/it]"
          ]
        },
        {
          "name": "stdout",
          "output_type": "stream",
          "text": [
            "iteration 43 train loss: 622.97\n"
          ]
        },
        {
          "name": "stderr",
          "output_type": "stream",
          "text": [
            " 90%|█████████ | 45/50 [24:03<02:31, 30.34s/it]"
          ]
        },
        {
          "name": "stdout",
          "output_type": "stream",
          "text": [
            "iteration 44 train loss: 617.32\n"
          ]
        },
        {
          "name": "stderr",
          "output_type": "stream",
          "text": [
            " 92%|█████████▏| 46/50 [24:33<02:00, 30.22s/it]"
          ]
        },
        {
          "name": "stdout",
          "output_type": "stream",
          "text": [
            "iteration 45 train loss: 608.24\n"
          ]
        },
        {
          "name": "stderr",
          "output_type": "stream",
          "text": [
            " 94%|█████████▍| 47/50 [25:03<01:30, 30.13s/it]"
          ]
        },
        {
          "name": "stdout",
          "output_type": "stream",
          "text": [
            "iteration 46 train loss: 590.04\n"
          ]
        },
        {
          "name": "stderr",
          "output_type": "stream",
          "text": [
            " 96%|█████████▌| 48/50 [25:33<01:00, 30.11s/it]"
          ]
        },
        {
          "name": "stdout",
          "output_type": "stream",
          "text": [
            "iteration 47 train loss: 586.13\n"
          ]
        },
        {
          "name": "stderr",
          "output_type": "stream",
          "text": [
            " 98%|█████████▊| 49/50 [26:06<00:31, 31.22s/it]"
          ]
        },
        {
          "name": "stdout",
          "output_type": "stream",
          "text": [
            "iteration 48 train loss: 583.00\n"
          ]
        },
        {
          "name": "stderr",
          "output_type": "stream",
          "text": [
            "100%|██████████| 50/50 [26:44<00:00, 32.10s/it]"
          ]
        },
        {
          "name": "stdout",
          "output_type": "stream",
          "text": [
            "iteration 49 train loss: 572.41\n"
          ]
        },
        {
          "name": "stderr",
          "output_type": "stream",
          "text": [
            "\n"
          ]
        }
      ],
      "source": [
        "with nlp.disable_pipes(*unaffected_pipes):\n",
        "    for iteration in tqdm(range(50)):\n",
        "        random.shuffle(train_data_examples)\n",
        "        losses = {}\n",
        "        batches = minibatch(train_data_examples, size=compounding(4.0, 32.0, 1.001))\n",
        "        for batch in batches:\n",
        "            nlp.update(list(batch), losses=losses, drop=0.1, sgd=sgd)\n",
        "\n",
        "        print(f\"iteration {iteration} train loss: {losses['spancat']:.2f}\")"
      ]
    },
    {
      "cell_type": "markdown",
      "metadata": {},
      "source": [
        "Having the model, we can pass the test/dev data to it to get the result"
      ]
    },
    {
      "cell_type": "code",
      "execution_count": 35,
      "metadata": {},
      "outputs": [],
      "source": [
        "with open(\"test.jsonl\", \"w\") as f:\n",
        "    for sample in dev_data:\n",
        "        text = sample[\"senences\"]\n",
        "        id = sample[\"id\"]\n",
        "        doc = nlp(text)\n",
        "        spans = doc.spans[span_key]\n",
        "        d = {\"id\" : id, \"ners\" : []}\n",
        "        for span, confidence in zip(spans, spans.attrs[\"scores\"]):\n",
        "            d[\"ners\"].append([span.start, span.end, span.label_])\n",
        "        f.write(str(d).replace(\"'\", \"\\\"\"))\n",
        "        f.write(\"\\n\")"
      ]
    },
    {
      "cell_type": "code",
      "execution_count": 36,
      "metadata": {
        "colab": {
          "base_uri": "https://localhost:8080/"
        },
        "id": "hht-6yBtn3FG",
        "outputId": "9e27debd-090f-4181-feba-b6264c0d2a90"
      },
      "outputs": [
        {
          "name": "stdout",
          "output_type": "stream",
          "text": [
            "updating: test.jsonl (164 bytes security) (deflated 84%)\n"
          ]
        }
      ],
      "source": [
        "!zip test test.jsonl"
      ]
    },
    {
      "cell_type": "code",
      "execution_count": 1,
      "metadata": {},
      "outputs": [],
      "source": [
        "import shutil"
      ]
    },
    {
      "cell_type": "code",
      "execution_count": 2,
      "metadata": {},
      "outputs": [
        {
          "data": {
            "text/plain": [
              "'./output/test.zip'"
            ]
          },
          "execution_count": 2,
          "metadata": {},
          "output_type": "execute_result"
        }
      ],
      "source": [
        "shutil.move(\"./test.jsonl\", \"./output/test.jsonl\")\n",
        "shutil.move(\"./test.zip\", \"./output/test.zip\")"
      ]
    }
  ],
  "metadata": {
    "colab": {
      "provenance": []
    },
    "kernelspec": {
      "display_name": "Python 3",
      "name": "python3"
    },
    "language_info": {
      "codemirror_mode": {
        "name": "ipython",
        "version": 3
      },
      "file_extension": ".py",
      "mimetype": "text/x-python",
      "name": "python",
      "nbconvert_exporter": "python",
      "pygments_lexer": "ipython3",
      "version": "3.11.2"
    }
  },
  "nbformat": 4,
  "nbformat_minor": 0
}
